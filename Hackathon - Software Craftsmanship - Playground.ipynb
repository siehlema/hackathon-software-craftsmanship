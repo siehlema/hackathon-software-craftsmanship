{
  "nbformat": 4,
  "nbformat_minor": 0,
  "metadata": {
    "colab": {
      "provenance": []
    },
    "kernelspec": {
      "name": "python3",
      "display_name": "Python 3"
    },
    "language_info": {
      "name": "python"
    }
  },
  "cells": [
    {
      "cell_type": "markdown",
      "source": [
        "# Hackathon - Software Craftsmanship\n",
        "\n",
        "In diesem Notebook findet ihr alle Übungen mit relevanten Infos zum Schülerstipendium Hackathon mit dem Thema Software Craftsmanship am 20.11.2024.\n",
        "\n",
        "## Allgemeine Infos\n",
        "\n",
        "* Alle Übungsaufgaben zum Hackathon findet ihr hier. Wann welche Übung bearbeitet werden soll wird im Zuge der Präsentation klar.\n",
        "* Führt die Übungen soweit möglich im Google Colab aus. Wir können zwischendurch gerne diskutieren, wie eine Lösung in euerer IDE aussehen kann.\n",
        "* Es gibt zwei optionale Übungen. Diese könnt ihr bearbeiten, wenn ihr mit der jeweils anderen Aufgabe schneller fertig seid.\n",
        "* Denkt bei jeder Übung daran diese am Ende auch in euren Team-Branch zu mergen. Etwas Zeit dafür einplanen!\n",
        "* Bei Fragen fragt einfach unkompliziert bei uns nach\n",
        "\n",
        "Ansonsten: Viel Spaß :)"
      ],
      "metadata": {
        "id": "22eSGJsPccwG"
      }
    },
    {
      "cell_type": "markdown",
      "source": [
        "## Übung 1 - Google Colab IDE und Git\n",
        "\n",
        "* Schaut euch in diesem Notebook um\n",
        "* Was kann man hier so machen?\n",
        "* Erzeugt Text- und Code-Blöcke und führt diese aus.\n",
        "* Legt in Github einen Übungsbranch an. Speichert Changes (CTRL+S) und wählt den Übungsbranch aus. Seht euch die Changes in Github im Branch an.\n",
        "* Mergt diesen Branch über Github danach in euren Team-Branch"
      ],
      "metadata": {
        "id": "lpxU-lrMcxaw"
      }
    },
    {
      "cell_type": "markdown",
      "source": [
        "### Google Colab Notebook Tipps\n",
        "\n",
        "* es gibt Code und Textblöcke\n",
        "* Codeblöcke könnt ihr ausführen, wenn ihr auf den Pfeil links vom Block klickt (oder schneller per CTRL+Enter)\n",
        "* Die Ausgabe wird per Default nach der Ausführung unter dem Codeblock dargestellt.\n",
        "* in Textblöcken kann man Text im Markdown Style formattieren\n",
        "* Codeblöcke sind per Default Python Code Blöcke. Man kann also direkt mit Coding loslegen.\n",
        "* Alternativ kann man in Codeblöcken auch Command Line Commands ausführen. Dazu ein `!` an den Anfang stellen.\n",
        "* schreibt man das Command `%%writefile <Dateiname>` an den Anfang eines Python Codeblocks wird der Block als Datei abgespeichert und der Python Code selbst wird NICHT ausgeführt"
      ],
      "metadata": {
        "id": "3q1ki7pujLO7"
      }
    },
    {
      "cell_type": "markdown",
      "source": [
        "## Übung 2 - Testing\n",
        "\n",
        "* erstellt einen neuen Übungsbranch\n",
        "* im Code-Block unten findet ihr die `AnnoyedToDoList`\n",
        "* schaut euch die Klasse an und führt die Beispielfunktionalität aus\n",
        "* zum Python-Testing findet ihr unten eine Erklärung mit Beispiel\n",
        "* Übungen:\n",
        "  1. teste die Funktion `add_task` mit einer Testfunktion in einer neuen Testdatei und mit passenden Assertions\n",
        "  1. die Methode `delete_task` hat noch keine Implementierung\n",
        "    * implementiere die Logik und schreibt einen Test dazu\n",
        "    * verfolge gerne die Vorgehensweise des TDD\n",
        "* mergt den Übungsbranch danach wieder in euren Teambranch"
      ],
      "metadata": {
        "id": "Q54SG7Xgdvpj"
      }
    },
    {
      "cell_type": "code",
      "source": [
        "# the following command writes the code to an external file\n",
        "%%writefile annoyed_todo_list.py\n",
        "from typing import List\n",
        "\n",
        "def get_external_tasks():\n",
        "    # don't implement this!\n",
        "    # this function mocks the response of an external data source\n",
        "    return []\n",
        "\n",
        "class Task:\n",
        "    task_name: str\n",
        "    done: bool\n",
        "\n",
        "class AnnoyedToDoList:\n",
        "    def __init__(self):\n",
        "        self.tasks: List[Task] = []\n",
        "        self.unfinished_tasks = 0\n",
        "\n",
        "    def add_task(self, task_name):\n",
        "        \"\"\"\n",
        "        Function that adds a task to the task list\n",
        "        \"\"\"\n",
        "        new_task = Task()\n",
        "        new_task.task_name = task_name\n",
        "        new_task.done = False\n",
        "        self.tasks.append(new_task)\n",
        "        print(f\"Task '{task_name}' added.\")\n",
        "        self.unfinished_tasks += 1\n",
        "\n",
        "    def complete_task(self, task_name):\n",
        "        for task in self.tasks:\n",
        "            if task.task_name == task_name and not task.done:\n",
        "                task.done = True\n",
        "                self.unfinished_tasks -= 1\n",
        "                print(f\"Task '{task_name}' completed.\")\n",
        "                if self.unfinished_tasks == 0:\n",
        "                    print(\"Wow! You finished all your tasks. Are you sure you're not a robot?\")\n",
        "                return\n",
        "        print(f\"Task '{task_name}' not found or already completed.\")\n",
        "\n",
        "    def show_tasks(self):\n",
        "        if len(self.tasks) == 0:\n",
        "            print(\"Nothing to do! Go binge-watch a show or something.\")\n",
        "        else:\n",
        "            for i, task in enumerate(self.tasks):\n",
        "                status = \"Done\" if task.done == True else \"Not Done\"\n",
        "                print(f\"{i+1}. {task.task_name} - {status}\")\n",
        "\n",
        "    def delete_task(self, task_name):\n",
        "        # the annoyed todo list does not want to delete your task\n",
        "        # time for you to impl this functionality + test in Übung 2\n",
        "        for t in self.tasks:\n",
        "          if t.task_name == task_name:\n",
        "            self.tasks.remove(t)\n",
        "            return t.task_name\n",
        "\n",
        "\n",
        "    def clear_tasks(self):\n",
        "        self.tasks.clear()\n",
        "        print(\"All tasks cleared! Now you're free... or are you?\")\n",
        "\n",
        "    def import_tasks_from_external(self):\n",
        "        external_tasks = get_external_tasks()\n",
        "        for task in external_tasks:\n",
        "            self.add_task(task)\n",
        "        print(f\"Imported {len(external_tasks)} tasks from external source.\")"
      ],
      "metadata": {
        "id": "LK1ZxIQhzyXi",
        "outputId": "b2834ca5-a8d7-4518-c258-defd3aefde24",
        "colab": {
          "base_uri": "https://localhost:8080/"
        }
      },
      "execution_count": 10,
      "outputs": [
        {
          "output_type": "stream",
          "name": "stdout",
          "text": [
            "Overwriting annoyed_todo_list.py\n"
          ]
        }
      ]
    },
    {
      "cell_type": "markdown",
      "source": [
        "# Markdown einfach weil wir es können"
      ],
      "metadata": {
        "id": "4YZUXYzWMghr"
      }
    },
    {
      "cell_type": "code",
      "source": [
        "from annoyed_todo_list import AnnoyedToDoList\n",
        "\n",
        "# Example usage\n",
        "todo_list = AnnoyedToDoList()\n",
        "todo_list.add_task(\"Buy groceries\")\n",
        "todo_list.add_task(\"Clean the house\")\n",
        "todo_list.show_tasks()\n",
        "todo_list.complete_task(\"Buy groceries\")\n",
        "todo_list.show_tasks()\n",
        "todo_list.clear_tasks()\n",
        "todo_list.import_tasks_from_external()"
      ],
      "metadata": {
        "id": "zixbhILjHg9p",
        "outputId": "90d8c034-2184-4729-9357-ddecc84d200f",
        "colab": {
          "base_uri": "https://localhost:8080/"
        }
      },
      "execution_count": 4,
      "outputs": [
        {
          "output_type": "stream",
          "name": "stdout",
          "text": [
            "Task 'Buy groceries' added.\n",
            "Task 'Clean the house' added.\n",
            "1. Buy groceries - Not Done\n",
            "2. Clean the house - Not Done\n",
            "Task 'Buy groceries' completed.\n",
            "1. Buy groceries - Done\n",
            "2. Clean the house - Not Done\n",
            "All tasks cleared! Now you're free... or are you?\n",
            "Imported 0 tasks from external source.\n"
          ]
        }
      ]
    },
    {
      "cell_type": "markdown",
      "source": [
        "### How to: Testing in Python\n",
        "\n",
        "Zum Testen verwenden wir das Standard Python Testing-Tool `pytest`."
      ],
      "metadata": {
        "id": "EVzLzj5mq3oS"
      }
    },
    {
      "cell_type": "markdown",
      "source": [
        "Wir brauchen einen Beispieltest, den wir ausführen können. Dazu folgender Python Code, welcher nach Ausführung als Datei abgespeichert wird."
      ],
      "metadata": {
        "id": "b3_EMM_8gGXK"
      }
    },
    {
      "cell_type": "code",
      "source": [
        "%%writefile testing_example.py\n",
        "def test_my_stuff_fails():\n",
        "    assert 42 == 43\n",
        "\n",
        "def test_my_stuff_success():\n",
        "    assert 42 == 42"
      ],
      "metadata": {
        "id": "TkHa-3p_zlzZ",
        "colab": {
          "base_uri": "https://localhost:8080/"
        },
        "outputId": "159292da-3ca3-441c-a31a-4986c684a772"
      },
      "execution_count": 6,
      "outputs": [
        {
          "output_type": "stream",
          "name": "stdout",
          "text": [
            "Writing testing_example.py\n"
          ]
        }
      ]
    },
    {
      "cell_type": "markdown",
      "source": [
        "Die Ausführung von `pytest` lässt sich ganz einfach per `!pytest <Dateiname>` starten."
      ],
      "metadata": {
        "id": "k2OrsXX0sC5E"
      }
    },
    {
      "cell_type": "code",
      "source": [
        "!pytest testing_example.py"
      ],
      "metadata": {
        "id": "DKIPhzEPkH1Z",
        "colab": {
          "base_uri": "https://localhost:8080/"
        },
        "outputId": "9ecbb423-fa11-49d6-f956-7e92dd826411"
      },
      "execution_count": 7,
      "outputs": [
        {
          "output_type": "stream",
          "name": "stdout",
          "text": [
            "\u001b[1m======================================= test session starts ========================================\u001b[0m\n",
            "platform linux -- Python 3.10.12, pytest-8.3.3, pluggy-1.5.0\n",
            "rootdir: /content\n",
            "plugins: anyio-3.7.1, typeguard-4.4.1\n",
            "\u001b[1mcollecting ... \u001b[0m\u001b[1m\rcollected 2 items                                                                                  \u001b[0m\n",
            "\n",
            "testing_example.py \u001b[31mF\u001b[0m\u001b[32m.\u001b[0m\u001b[31m                                                                        [100%]\u001b[0m\n",
            "\n",
            "============================================= FAILURES =============================================\n",
            "\u001b[31m\u001b[1m_______________________________________ test_my_stuff_fails ________________________________________\u001b[0m\n",
            "\n",
            "    \u001b[0m\u001b[94mdef\u001b[39;49;00m \u001b[92mtest_my_stuff_fails\u001b[39;49;00m():\u001b[90m\u001b[39;49;00m\n",
            ">       \u001b[94massert\u001b[39;49;00m \u001b[94m42\u001b[39;49;00m == \u001b[94m43\u001b[39;49;00m\u001b[90m\u001b[39;49;00m\n",
            "\u001b[1m\u001b[31mE       assert 42 == 43\u001b[0m\n",
            "\n",
            "\u001b[1m\u001b[31mtesting_example.py\u001b[0m:2: AssertionError\n",
            "\u001b[36m\u001b[1m===================================== short test summary info ======================================\u001b[0m\n",
            "\u001b[31mFAILED\u001b[0m testing_example.py::\u001b[1mtest_my_stuff_fails\u001b[0m - assert 42 == 43\n",
            "\u001b[31m=================================== \u001b[31m\u001b[1m1 failed\u001b[0m, \u001b[32m1 passed\u001b[0m\u001b[31m in 0.17s\u001b[0m\u001b[31m ====================================\u001b[0m\n"
          ]
        }
      ]
    },
    {
      "cell_type": "code",
      "source": [
        "%%writefile tests_uebung2.py\n",
        "from annoyed_todo_list import AnnoyedToDoList\n",
        "\n",
        "def add_functions(t):\n",
        "  t.add_task(\"Punch my team partner\")\n",
        "  t.add_task(\"Drink more Orange Juice\")\n",
        "  return t\n",
        "\n",
        "def test_delete_task():\n",
        "  t = AnnoyedToDoList()\n",
        "  t = add_functions(t)\n",
        "\n",
        "  assert t.delete_task(\"\") == None"
      ],
      "metadata": {
        "id": "fGsFP42pfDGY",
        "colab": {
          "base_uri": "https://localhost:8080/"
        },
        "outputId": "6ba28b8c-c001-4f13-e7d3-c555cb3e16d8"
      },
      "execution_count": 14,
      "outputs": [
        {
          "output_type": "stream",
          "name": "stdout",
          "text": [
            "Overwriting tests_uebung2.py\n"
          ]
        }
      ]
    },
    {
      "cell_type": "code",
      "source": [
        "!pytest tests_uebung2.py"
      ],
      "metadata": {
        "id": "lA-jXUZxl4kP",
        "outputId": "b55c47d3-e4e2-4229-dc3a-7a5783edb792",
        "colab": {
          "base_uri": "https://localhost:8080/"
        }
      },
      "execution_count": 15,
      "outputs": [
        {
          "output_type": "stream",
          "name": "stdout",
          "text": [
            "\u001b[1m======================================= test session starts ========================================\u001b[0m\n",
            "platform linux -- Python 3.10.12, pytest-8.3.3, pluggy-1.5.0\n",
            "rootdir: /content\n",
            "plugins: anyio-3.7.1, typeguard-4.4.1\n",
            "\u001b[1mcollecting ... \u001b[0m\u001b[1m\rcollected 1 item                                                                                   \u001b[0m\n",
            "\n",
            "tests_uebung2.py \u001b[32m.\u001b[0m\u001b[32m                                                                           [100%]\u001b[0m\n",
            "\n",
            "\u001b[32m======================================== \u001b[32m\u001b[1m1 passed\u001b[0m\u001b[32m in 0.01s\u001b[0m\u001b[32m =========================================\u001b[0m\n"
          ]
        }
      ]
    },
    {
      "cell_type": "code",
      "source": [
        "%%writefile testing_todolist_add.py\n",
        "\n",
        "from annoyed_todo_list import AnnoyedToDoList\n",
        "\n",
        "def test_one_task():\n",
        "\n",
        "  todo_list = AnnoyedToDoList()\n",
        "  todo_list.add_task(\"Buy groceries\")\n",
        "  todo_list.add_task(\"Clean the house\")\n",
        "  todo_list.add_task(\"Buy groceries 2\")\n",
        "\n",
        "  assert len(todo_list.tasks) == 3"
      ],
      "metadata": {
        "id": "KhNm8ZTUjOSX",
        "outputId": "26ddd956-828c-43ac-97da-87a079a97a6e",
        "colab": {
          "base_uri": "https://localhost:8080/"
        }
      },
      "execution_count": 13,
      "outputs": [
        {
          "output_type": "stream",
          "name": "stdout",
          "text": [
            "Overwriting testing_todolist_add.py\n"
          ]
        }
      ]
    },
    {
      "cell_type": "code",
      "source": [
        "!pytest testing_todolist_add.py"
      ],
      "metadata": {
        "id": "6MO8jDl1kQG3",
        "outputId": "8b1da129-bc61-4190-8e1f-0044d5aca79b",
        "colab": {
          "base_uri": "https://localhost:8080/"
        }
      },
      "execution_count": 14,
      "outputs": [
        {
          "output_type": "stream",
          "name": "stdout",
          "text": [
            "\u001b[1m======================================= test session starts ========================================\u001b[0m\n",
            "platform linux -- Python 3.10.12, pytest-8.3.3, pluggy-1.5.0\n",
            "rootdir: /content\n",
            "plugins: anyio-3.7.1, typeguard-4.4.1\n",
            "\u001b[1mcollecting ... \u001b[0m\u001b[1m\rcollected 1 item                                                                                   \u001b[0m\n",
            "\n",
            "testing_todolist_add.py \u001b[32m.\u001b[0m\u001b[32m                                                                    [100%]\u001b[0m\n",
            "\n",
            "\u001b[32m======================================== \u001b[32m\u001b[1m1 passed\u001b[0m\u001b[32m in 0.01s\u001b[0m\u001b[32m =========================================\u001b[0m\n"
          ]
        }
      ]
    },
    {
      "cell_type": "markdown",
      "source": [
        "## Übung 2 (Optional) - Unit Test mit Mock\n",
        "\n",
        "* Die `AnnoyedTodoList` hat eine Funktion `import_tasks_from_external`\n",
        "* Diese ruft eine externe Funktion auf, welche aktuell immer eine leere Liste zurückliefert\n",
        "* Wir wollen jetzt so tun, als ob diese Methode eine Liste von extern bereitstellen würde\n",
        "* Schreibe dazu einen neuen Unit Test, in dem die Response der externen Methode `get_external_tasks` gemockt ist und prüfe das Ergebnis des Imports\n"
      ],
      "metadata": {
        "id": "igOpxNVKlWsc"
      }
    },
    {
      "cell_type": "code",
      "source": [
        "%%writefile tests_uebung2_optional.py\n",
        "\n",
        "# euer Code kommt hier :)"
      ],
      "metadata": {
        "id": "Jhn2WRrAq-pj",
        "colab": {
          "base_uri": "https://localhost:8080/"
        },
        "outputId": "26b4518f-0975-4aae-8783-57f26b16647b"
      },
      "execution_count": 10,
      "outputs": [
        {
          "output_type": "stream",
          "name": "stdout",
          "text": [
            "Writing tests_uebung2_optional.py\n"
          ]
        }
      ]
    },
    {
      "cell_type": "markdown",
      "source": [
        "## Übung 3 - Linting\n",
        "\n",
        "* erstellt einen Übungs-Branch für diese Übung aus eurem Team-Branch\n",
        "* analysiert den Code der `AnnoyedToDoList`\n",
        "* diese wurde bereits in die Datei `annoyed_todo_list.py` geschrieben\n",
        "* nutzt zur `pylint` zur Code-Analyse\n",
        " * ihr findet unten eine Erklärung mit Beispiel\n",
        " * führt die Analyse wie beschrieben aus und behebt die angegebenen Issues, soweit ihr in der Zeit kommt\n",
        "* committet die Fixes in eurem Übungs-Branch\n",
        "* mergt den Übungsbranch danach wieder in euren Team-Branch"
      ],
      "metadata": {
        "id": "RQFT-Mw-fLxS"
      }
    },
    {
      "cell_type": "markdown",
      "source": [
        "### How to: Linting in Python\n",
        "\n",
        "Zum Linting installieren und initialisieren wir zuerst die notwendigen Python Tools:"
      ],
      "metadata": {
        "id": "B8OncaxFqlNd"
      }
    },
    {
      "cell_type": "code",
      "source": [
        "!pip install pylint"
      ],
      "metadata": {
        "id": "IBggQVmYU3Dq",
        "colab": {
          "base_uri": "https://localhost:8080/"
        },
        "outputId": "af36cc00-85ce-45f2-cbe4-dafbf89fef09"
      },
      "execution_count": 11,
      "outputs": [
        {
          "output_type": "stream",
          "name": "stdout",
          "text": [
            "Collecting pylint\n",
            "  Downloading pylint-3.3.1-py3-none-any.whl.metadata (12 kB)\n",
            "Requirement already satisfied: platformdirs>=2.2.0 in /usr/local/lib/python3.10/dist-packages (from pylint) (4.3.6)\n",
            "Collecting astroid<=3.4.0-dev0,>=3.3.4 (from pylint)\n",
            "  Downloading astroid-3.3.5-py3-none-any.whl.metadata (4.5 kB)\n",
            "Collecting isort!=5.13.0,<6,>=4.2.5 (from pylint)\n",
            "  Downloading isort-5.13.2-py3-none-any.whl.metadata (12 kB)\n",
            "Collecting mccabe<0.8,>=0.6 (from pylint)\n",
            "  Downloading mccabe-0.7.0-py2.py3-none-any.whl.metadata (5.0 kB)\n",
            "Collecting tomlkit>=0.10.1 (from pylint)\n",
            "  Downloading tomlkit-0.13.2-py3-none-any.whl.metadata (2.7 kB)\n",
            "Collecting dill>=0.2 (from pylint)\n",
            "  Downloading dill-0.3.9-py3-none-any.whl.metadata (10 kB)\n",
            "Requirement already satisfied: tomli>=1.1.0 in /usr/local/lib/python3.10/dist-packages (from pylint) (2.1.0)\n",
            "Requirement already satisfied: typing-extensions>=4.0.0 in /usr/local/lib/python3.10/dist-packages (from astroid<=3.4.0-dev0,>=3.3.4->pylint) (4.12.2)\n",
            "Downloading pylint-3.3.1-py3-none-any.whl (521 kB)\n",
            "\u001b[2K   \u001b[90m━━━━━━━━━━━━━━━━━━━━━━━━━━━━━━━━━━━━━━━━\u001b[0m \u001b[32m521.8/521.8 kB\u001b[0m \u001b[31m9.8 MB/s\u001b[0m eta \u001b[36m0:00:00\u001b[0m\n",
            "\u001b[?25hDownloading astroid-3.3.5-py3-none-any.whl (274 kB)\n",
            "\u001b[2K   \u001b[90m━━━━━━━━━━━━━━━━━━━━━━━━━━━━━━━━━━━━━━━━\u001b[0m \u001b[32m274.6/274.6 kB\u001b[0m \u001b[31m17.3 MB/s\u001b[0m eta \u001b[36m0:00:00\u001b[0m\n",
            "\u001b[?25hDownloading dill-0.3.9-py3-none-any.whl (119 kB)\n",
            "\u001b[2K   \u001b[90m━━━━━━━━━━━━━━━━━━━━━━━━━━━━━━━━━━━━━━━━\u001b[0m \u001b[32m119.4/119.4 kB\u001b[0m \u001b[31m6.4 MB/s\u001b[0m eta \u001b[36m0:00:00\u001b[0m\n",
            "\u001b[?25hDownloading isort-5.13.2-py3-none-any.whl (92 kB)\n",
            "\u001b[2K   \u001b[90m━━━━━━━━━━━━━━━━━━━━━━━━━━━━━━━━━━━━━━━━\u001b[0m \u001b[32m92.3/92.3 kB\u001b[0m \u001b[31m6.2 MB/s\u001b[0m eta \u001b[36m0:00:00\u001b[0m\n",
            "\u001b[?25hDownloading mccabe-0.7.0-py2.py3-none-any.whl (7.3 kB)\n",
            "Downloading tomlkit-0.13.2-py3-none-any.whl (37 kB)\n",
            "Installing collected packages: tomlkit, mccabe, isort, dill, astroid, pylint\n",
            "Successfully installed astroid-3.3.5 dill-0.3.9 isort-5.13.2 mccabe-0.7.0 pylint-3.3.1 tomlkit-0.13.2\n"
          ]
        }
      ]
    },
    {
      "cell_type": "markdown",
      "source": [
        "Danach brauchen wir Python Code, den wir analysieren können. Dazu folgendes Beispiel, welches nach Ausführung als Datei abgespeichert wird."
      ],
      "metadata": {
        "id": "toULD6h1i1gp"
      }
    },
    {
      "cell_type": "code",
      "source": [
        "%%writefile linting_example.py\n",
        "def square_of_number(\n",
        "     num1, num2, num3,\n",
        "     num4):\n",
        "  return num1**2, num2**2, num3**3"
      ],
      "metadata": {
        "id": "6w0Voe1viQ9b",
        "colab": {
          "base_uri": "https://localhost:8080/"
        },
        "outputId": "351ef749-a9bb-4400-ec99-2fd1c8689134"
      },
      "execution_count": 12,
      "outputs": [
        {
          "output_type": "stream",
          "name": "stdout",
          "text": [
            "Writing linting_example.py\n"
          ]
        }
      ]
    },
    {
      "cell_type": "markdown",
      "source": [
        "Die Ausführung von `pylint` ist dann ganz einfach per `!pylint <Dateiname>` machbar."
      ],
      "metadata": {
        "id": "FtRWchlhjAof"
      }
    },
    {
      "cell_type": "code",
      "source": [
        "!pylint linting_example.py"
      ],
      "metadata": {
        "id": "wyo3mBZFU70W",
        "colab": {
          "base_uri": "https://localhost:8080/"
        },
        "outputId": "e4d48e1f-bba9-4b2e-b4f4-80b10ddbd64d"
      },
      "execution_count": 13,
      "outputs": [
        {
          "output_type": "stream",
          "name": "stdout",
          "text": [
            "************* Module linting_example\n",
            "linting_example.py:4:0: W0311: Bad indentation. Found 2 spaces, expected 4 (bad-indentation)\n",
            "linting_example.py:1:0: C0114: Missing module docstring (missing-module-docstring)\n",
            "linting_example.py:1:0: C0116: Missing function or method docstring (missing-function-docstring)\n",
            "linting_example.py:3:5: W0613: Unused argument 'num4' (unused-argument)\n",
            "\n",
            "-----------------------------------\n",
            "Your code has been rated at 0.00/10\n",
            "\n"
          ]
        }
      ]
    },
    {
      "cell_type": "markdown",
      "source": [
        "## Übung 3 (Optional & Fortgeschritten) - SOLID Prinzipien\n",
        "\n",
        "* schaut euch den Code der `AnnoyedTodoList` im Detail an\n",
        "* wie kann die Klasse umgebaut werden, sodass einige der SOLID Prinzipien eingehalten werden? Ein paar Tipps und Fragen dazu zur Anregung :)\n",
        " * Ist die Listenklasse aktuell für eine Aufgabe zuständig? Falls nein, wie könnte man das verbessern?\n",
        " * Kann das Verhalten der Liste aktuell einfach erweitert werden? Falls nein, wie könnte man das verbessern?\n",
        " * Macht evtl die Verwendung einer Basisklasse Sinn?\n",
        " * Könnten die Funktionalitäten der Liste aufgeteilt werden?\n",
        " * Wie könnte man die Verwendung der externen Methode `get_external_tasks` noch flexibler gestalten?\n",
        "* wie zuvor erstellt einen Übungs-Branch dazu und mergt ihn danach in den Team-Branch"
      ],
      "metadata": {
        "id": "ViZnnqihgQd-"
      }
    },
    {
      "cell_type": "markdown",
      "source": [
        "## Übung 4 - Code Reviews\n",
        "\n",
        "* Stellt einen Pull Request ein, bei dem ihr euren Team-Branch auf den main Branch mergen wollt\n",
        "* Sucht euch ein anderes Team\n",
        "* führt jeweils gegenseitig ein Review auf diesem Pull Request durch und fügt Anmerkungen hinzu, die euch auffallen\n",
        "* das gesamte Notebook File ist als JSON formatiert. Deshalb wundert euch nicht, dass die Code Blöcke beim Review nicht als Python Code dargestellt.\n",
        "* tauscht euch danach gegenseitig aus"
      ],
      "metadata": {
        "id": "PLhdPSORgjtF"
      }
    }
  ]
}