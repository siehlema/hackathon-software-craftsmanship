{
  "nbformat": 4,
  "nbformat_minor": 0,
  "metadata": {
    "colab": {
      "provenance": []
    },
    "kernelspec": {
      "name": "python3",
      "display_name": "Python 3"
    },
    "language_info": {
      "name": "python"
    }
  },
  "cells": [
    {
      "cell_type": "markdown",
      "source": [
        "# Hackathon - Software Craftsmanship\n",
        "\n",
        "---\n",
        "\n",
        "\n",
        "\n",
        "In diesem Notebook findet ihr alle Übungen mit relevanten Infos zum Schülerstipendium Hackathon mit dem Thema Software Craftsmanship am 20.11.2024.\n",
        "\n",
        "## Allgemeine Infos\n",
        "\n",
        "* Alle Übungsaufgaben zum Hackathon findet ihr hier. Wann welche Übung bearbeitet werden soll wird im Zuge der Präsentation klar.\n",
        "* Führt die Übungen soweit möglich im Google Colab aus. Wir können zwischendurch gerne diskutieren, wie eine Lösung in euerer IDE aussehen kann.\n",
        "* Es gibt zwei optionale Übungen. Diese könnt ihr bearbeiten, wenn ihr mit der jeweils anderen Aufgabe schneller fertig seid.\n",
        "* Denkt bei jeder Übung daran diese am Ende auch in euren Team-Branch zu mergen. Etwas Zeit dafür einplanen!\n",
        "* Bei Fragen fragt einfach unkompliziert bei uns nach\n",
        "\n",
        "Ansonsten: Viel Spaß :)"
      ],
      "metadata": {
        "id": "22eSGJsPccwG"
      }
    },
    {
      "cell_type": "markdown",
      "source": [
        "## Übung 1 - Google Colab IDE und Git\n",
        "\n",
        "* Schaut euch in diesem Notebook um\n",
        "* Was kann man hier so machen?\n",
        "* Erzeugt Text- und Code-Blöcke und führt diese aus.\n",
        "* Legt in Github einen Übungsbranch an. Speichert Changes (CTRL+S) und wählt den Übungsbranch aus. Seht euch die Changes in Github im Branch an.\n",
        "* Mergt diesen Branch über Github danach in euren Team-Branch"
      ],
      "metadata": {
        "id": "lpxU-lrMcxaw"
      }
    },
    {
      "cell_type": "code",
      "source": [
        "print(\"Hello!\")"
      ],
      "metadata": {
        "colab": {
          "base_uri": "https://localhost:8080/"
        },
        "id": "P_3892qUNFk1",
        "outputId": "edcdec1b-ff7e-40ac-a6e1-17c07a9d7b12"
      },
      "execution_count": null,
      "outputs": [
        {
          "output_type": "stream",
          "name": "stdout",
          "text": [
            "Hello World!\n"
          ]
        }
      ]
    },
    {
      "cell_type": "markdown",
      "source": [
        "### Google Colab Notebook Tipps\n",
        "\n",
        "* es gibt Code und Textblöcke\n",
        "* Codeblöcke könnt ihr ausführen, wenn ihr auf den Pfeil links vom Block klickt (oder schneller per CTRL+Enter)\n",
        "* Die Ausgabe wird per Default nach der Ausführung unter dem Codeblock dargestellt.\n",
        "* in Textblöcken kann man Text im Markdown Style formattieren\n",
        "* Codeblöcke sind per Default Python Code Blöcke. Man kann also direkt mit Coding loslegen.\n",
        "* Alternativ kann man in Codeblöcken auch Command Line Commands ausführen. Dazu ein `!` an den Anfang stellen.\n",
        "* schreibt man das Command `%%writefile <Dateiname>` an den Anfang eines Python Codeblocks wird der Block als Datei abgespeichert und der Python Code selbst wird NICHT ausgeführt"
      ],
      "metadata": {
        "id": "3q1ki7pujLO7"
      }
    },
    {
      "cell_type": "markdown",
      "source": [
        "## Übung 2 - Testing\n",
        "\n",
        "* erstellt einen neuen Übungsbranch\n",
        "* im Code-Block unten findet ihr die `AnnoyedToDoList`\n",
        "* schaut euch die Klasse an und führt die Beispielfunktionalität aus\n",
        "* zum Python-Testing findet ihr unten eine Erklärung mit Beispiel\n",
        "* Übungen:\n",
        "  1. teste die Funktion `add_task` mit einer Testfunktion in einer neuen Testdatei und mit passenden Assertions\n",
        "  1. die Methode `delete_task` hat noch keine Implementierung\n",
        "    * implementiere die Logik und schreibt einen Test dazu\n",
        "    * verfolge gerne die Vorgehensweise des TDD\n",
        "* mergt den Übungsbranch danach wieder in euren Teambranch"
      ],
      "metadata": {
        "id": "Q54SG7Xgdvpj"
      }
    },
    {
      "cell_type": "code",
      "source": [
        "# the following command writes the code to an external file\n",
        "%%writefile annoyed_todo_list.py\n",
        "\"\"\"Module for managing an annoyed todo list that limits tasks for work-life balance.\"\"\"\n",
        "\n",
        "from typing import List\n",
        "\n",
        "def get_external_tasks():\n",
        "    \"\"\"Return mock tasks from external data source.\"\"\"\n",
        "    return []\n",
        "\n",
        "class Task:\n",
        "    \"\"\"Class representing a single task with name and completion status.\"\"\"\n",
        "    task_name: str\n",
        "    done: bool\n",
        "\n",
        "class AnnoyedToDoList:\n",
        "    \"\"\"Class for managing tasks with attitude.\"\"\"\n",
        "    def __init__(self):\n",
        "        self.tasks: List[Task] = []\n",
        "        self.unfinished_tasks = 0\n",
        "\n",
        "    def add_task(self, task_name):\n",
        "        \"\"\"Function that adds a task to the task list.\"\"\"\n",
        "        if len(self.tasks) > 2:\n",
        "            print(\"Woah! That's a lot of tasks! Ever heard of work-life balance? Not doing this ..\")\n",
        "            return\n",
        "        print(\"Yeah, alright. This time I'll add it to the list ...\")\n",
        "        new_task = Task()\n",
        "        new_task.task_name = task_name\n",
        "        new_task.done = False\n",
        "        self.tasks.append(new_task)\n",
        "        print(f\"Task '{task_name}' added.\")\n",
        "        self.unfinished_tasks += 1\n",
        "\n",
        "    def complete_task(self, task_name):\n",
        "        \"\"\"Mark a task as completed and update unfinished count.\"\"\"\n",
        "        for task in self.tasks:\n",
        "            if task.task_name == task_name and not task.done:\n",
        "                task.done = True\n",
        "                self.unfinished_tasks -= 1\n",
        "                print(f\"Task '{task_name}' completed.\")\n",
        "                if self.unfinished_tasks == 0:\n",
        "                    print(\"Wow! You finished all your tasks. Are you sure you're not a robot?\")\n",
        "                return\n",
        "        print(f\"Task '{task_name}' not found or already completed.\")\n",
        "\n",
        "    def show_tasks(self):\n",
        "        \"\"\"Display all tasks with their completion status.\"\"\"\n",
        "        if len(self.tasks) == 0:\n",
        "            print(\"Nothing to do! Go binge-watch a show or something.\")\n",
        "        else:\n",
        "            for i, task in enumerate(self.tasks):\n",
        "                status = \"Done\" if task.done else \"Not Done\"\n",
        "                print(f\"{i+1}. {task.task_name} - {status}\")\n",
        "\n",
        "    def delete_task(self, task_name):\n",
        "        \"\"\"Delete a task from the list if it exists.\"\"\"\n",
        "        for task in self.tasks[:]:\n",
        "            if task.task_name == task_name:\n",
        "                self.tasks.remove(task)\n",
        "                if not task.done:\n",
        "                    self.unfinished_tasks -= 1\n",
        "                print(f\"Task '{task_name}' deleted. I hope you're happy now...\")\n",
        "                return\n",
        "        print(f\"Task '{task_name}' not found. Lucky you!\")\n",
        "\n",
        "    def clear_tasks(self):\n",
        "        \"\"\"Remove all tasks from the list.\"\"\"\n",
        "        self.tasks.clear()\n",
        "        print(\"All tasks cleared! Now you're free... or are you?\")\n",
        "\n",
        "    def import_tasks_from_external(self):\n",
        "        \"\"\"Import tasks from external source and add them to the list.\"\"\"\n",
        "        external_tasks = get_external_tasks()\n",
        "        for task in external_tasks:\n",
        "            self.add_task(task)\n",
        "        print(f\"Imported {len(external_tasks)} tasks from external source.\")"
      ],
      "metadata": {
        "id": "LK1ZxIQhzyXi",
        "colab": {
          "base_uri": "https://localhost:8080/"
        },
        "outputId": "560be9b9-24c9-4661-a9e2-202b9f1500c1"
      },
      "execution_count": 48,
      "outputs": [
        {
          "output_type": "stream",
          "name": "stdout",
          "text": [
            "Overwriting annoyed_todo_list.py\n"
          ]
        }
      ]
    },
    {
      "cell_type": "code",
      "source": [
        "!pylint annoyed_todo_list.py"
      ],
      "metadata": {
        "id": "BNyPxVnk4TEw",
        "outputId": "b48abac1-b204-4331-9833-bdd7366d3744",
        "colab": {
          "base_uri": "https://localhost:8080/"
        }
      },
      "execution_count": 49,
      "outputs": [
        {
          "output_type": "stream",
          "name": "stdout",
          "text": [
            "************* Module annoyed_todo_list\n",
            "annoyed_todo_list.py:9:0: R0903: Too few public methods (0/2) (too-few-public-methods)\n",
            "\n",
            "------------------------------------------------------------------\n",
            "Your code has been rated at 9.81/10 (previous run: 5.56/10, +4.26)\n",
            "\n"
          ]
        }
      ]
    },
    {
      "cell_type": "code",
      "source": [
        "from annoyed_todo_list import AnnoyedToDoList\n",
        "\n",
        "# Example usage\n",
        "todo_list = AnnoyedToDoList()\n",
        "todo_list.add_task(\"Buy groceries\")\n",
        "todo_list.add_task(\"Clean the house\")\n",
        "todo_list.show_tasks()\n",
        "todo_list.complete_task(\"Buy groceries\")\n",
        "todo_list.show_tasks()\n",
        "todo_list.clear_tasks()\n",
        "todo_list.import_tasks_from_external()"
      ],
      "metadata": {
        "id": "zixbhILjHg9p",
        "colab": {
          "base_uri": "https://localhost:8080/"
        },
        "outputId": "38aa4582-3db7-4ae2-d600-c628e486a7e6"
      },
      "execution_count": 41,
      "outputs": [
        {
          "output_type": "stream",
          "name": "stdout",
          "text": [
            "Yeah, alright. This time I'll add it to the list ...\n",
            "Task 'Buy groceries' added.\n",
            "Yeah, alright. This time I'll add it to the list ...\n",
            "Task 'Clean the house' added.\n",
            "1. Buy groceries - Not Done\n",
            "2. Clean the house - Not Done\n",
            "Task 'Buy groceries' completed.\n",
            "1. Buy groceries - Done\n",
            "2. Clean the house - Not Done\n",
            "All tasks cleared! Now you're free... or are you?\n",
            "Imported 0 tasks from external source.\n"
          ]
        }
      ]
    },
    {
      "cell_type": "markdown",
      "source": [
        "### How to: Testing in Python\n",
        "\n",
        "Zum Testen verwenden wir das Standard Python Testing-Tool `pytest`."
      ],
      "metadata": {
        "id": "EVzLzj5mq3oS"
      }
    },
    {
      "cell_type": "markdown",
      "source": [
        "Wir brauchen einen Beispieltest, den wir ausführen können. Dazu folgender Python Code, welcher nach Ausführung als Datei abgespeichert wird."
      ],
      "metadata": {
        "id": "b3_EMM_8gGXK"
      }
    },
    {
      "cell_type": "code",
      "source": [
        "%%writefile testing_example.py\n",
        "def test_my_stuff_fails():\n",
        "    assert 42 == 43\n",
        "\n",
        "def test_my_stuff_success():\n",
        "    assert 42 == 42"
      ],
      "metadata": {
        "id": "TkHa-3p_zlzZ",
        "colab": {
          "base_uri": "https://localhost:8080/"
        },
        "outputId": "f05a2b13-dab3-4279-8cb4-78bb4161effe"
      },
      "execution_count": 5,
      "outputs": [
        {
          "output_type": "stream",
          "name": "stdout",
          "text": [
            "Writing testing_example.py\n"
          ]
        }
      ]
    },
    {
      "cell_type": "markdown",
      "source": [
        "Die Ausführung von `pytest` lässt sich ganz einfach per `!pytest <Dateiname>` starten."
      ],
      "metadata": {
        "id": "k2OrsXX0sC5E"
      }
    },
    {
      "cell_type": "code",
      "source": [
        "!pytest testing_example.py"
      ],
      "metadata": {
        "id": "DKIPhzEPkH1Z",
        "colab": {
          "base_uri": "https://localhost:8080/"
        },
        "outputId": "ccd61fc0-9036-4eda-8964-6e5a37c95028"
      },
      "execution_count": 6,
      "outputs": [
        {
          "output_type": "stream",
          "name": "stdout",
          "text": [
            "\u001b[1m======================================= test session starts ========================================\u001b[0m\n",
            "platform linux -- Python 3.10.12, pytest-8.3.3, pluggy-1.5.0\n",
            "rootdir: /content\n",
            "plugins: anyio-3.7.1, typeguard-4.4.1\n",
            "\u001b[1mcollecting ... \u001b[0m\u001b[1m\rcollected 2 items                                                                                  \u001b[0m\n",
            "\n",
            "testing_example.py \u001b[31mF\u001b[0m\u001b[32m.\u001b[0m\u001b[31m                                                                        [100%]\u001b[0m\n",
            "\n",
            "============================================= FAILURES =============================================\n",
            "\u001b[31m\u001b[1m_______________________________________ test_my_stuff_fails ________________________________________\u001b[0m\n",
            "\n",
            "    \u001b[0m\u001b[94mdef\u001b[39;49;00m \u001b[92mtest_my_stuff_fails\u001b[39;49;00m():\u001b[90m\u001b[39;49;00m\n",
            ">       \u001b[94massert\u001b[39;49;00m \u001b[94m42\u001b[39;49;00m == \u001b[94m43\u001b[39;49;00m\u001b[90m\u001b[39;49;00m\n",
            "\u001b[1m\u001b[31mE       assert 42 == 43\u001b[0m\n",
            "\n",
            "\u001b[1m\u001b[31mtesting_example.py\u001b[0m:2: AssertionError\n",
            "\u001b[36m\u001b[1m===================================== short test summary info ======================================\u001b[0m\n",
            "\u001b[31mFAILED\u001b[0m testing_example.py::\u001b[1mtest_my_stuff_fails\u001b[0m - assert 42 == 43\n",
            "\u001b[31m=================================== \u001b[31m\u001b[1m1 failed\u001b[0m, \u001b[32m1 passed\u001b[0m\u001b[31m in 0.10s\u001b[0m\u001b[31m ====================================\u001b[0m\n"
          ]
        }
      ]
    },
    {
      "cell_type": "code",
      "source": [
        "%%writefile tests_uebung2_add.py\n",
        "\n",
        "#teste die Funktion add_task mit einer Testfunktion in einer neuen Testdatei und mit passenden Assertions\n",
        "from annoyed_todo_list import AnnoyedToDoList\n",
        "\n",
        "def test_add_task():\n",
        "    todo_list = AnnoyedToDoList()\n",
        "    todo_list.add_task(\"Einkaufen\")\n",
        "    assert len(todo_list.tasks) == 1\n",
        "    assert todo_list.tasks[0].task_name == \"Einkaufen\"\n",
        "    assert todo_list.tasks[0].done == False\n",
        "    assert todo_list.unfinished_tasks == 1\n",
        "\n",
        "def test_task_limit():\n",
        "    todo_list = AnnoyedToDoList()\n",
        "    tasks = [\"Task 1\", \"Task 2\", \"Task 3\", \"Task 4\"]\n",
        "    for task in tasks:\n",
        "        todo_list.add_task(task)\n",
        "\n",
        "    assert len(todo_list.tasks) == 3\n",
        "    assert todo_list.unfinished_tasks == 3"
      ],
      "metadata": {
        "id": "fGsFP42pfDGY",
        "colab": {
          "base_uri": "https://localhost:8080/"
        },
        "outputId": "57e7a299-b939-40ac-f5c9-75e3d784d3b1"
      },
      "execution_count": 14,
      "outputs": [
        {
          "output_type": "stream",
          "name": "stdout",
          "text": [
            "Overwriting tests_uebung2_add.py\n"
          ]
        }
      ]
    },
    {
      "cell_type": "code",
      "source": [
        "!pytest tests_uebung2_add.py"
      ],
      "metadata": {
        "colab": {
          "base_uri": "https://localhost:8080/"
        },
        "id": "SBQBDFL-kVQc",
        "outputId": "6c981c8c-c5c4-479a-87c6-5a96a5f91cb3"
      },
      "execution_count": 15,
      "outputs": [
        {
          "output_type": "stream",
          "name": "stdout",
          "text": [
            "\u001b[1m======================================= test session starts ========================================\u001b[0m\n",
            "platform linux -- Python 3.10.12, pytest-8.3.3, pluggy-1.5.0\n",
            "rootdir: /content\n",
            "plugins: anyio-3.7.1, typeguard-4.4.1\n",
            "\u001b[1mcollecting ... \u001b[0m\u001b[1m\rcollected 2 items                                                                                  \u001b[0m\n",
            "\n",
            "tests_uebung2_add.py \u001b[32m.\u001b[0m\u001b[32m.\u001b[0m\u001b[32m                                                                      [100%]\u001b[0m\n",
            "\n",
            "\u001b[32m======================================== \u001b[32m\u001b[1m2 passed\u001b[0m\u001b[32m in 0.01s\u001b[0m\u001b[32m =========================================\u001b[0m\n"
          ]
        }
      ]
    },
    {
      "cell_type": "code",
      "source": [
        "%%writefile tests_uebung2_delete.py\n",
        "\n",
        "from annoyed_todo_list import AnnoyedToDoList\n",
        "\n",
        "def test_unfinished_tasks_counter():\n",
        "  todo_list = AnnoyedToDoList()\n",
        "  todo_list.add_task(\"Task 1\")\n",
        "  todo_list.add_task(\"Task 2\")\n",
        "  todo_list.add_task(\"Task 3\")\n",
        "  assert len(todo_list.tasks) == 3\n",
        "  assert todo_list.unfinished_tasks == 3\n",
        "\n",
        "  todo_list.complete_task(\"Task 1\")\n",
        "  assert len(todo_list.tasks) == 3\n",
        "  assert todo_list.unfinished_tasks == 2\n",
        "\n",
        "  todo_list.delete_task(\"Task 2\")\n",
        "  assert len(todo_list.tasks) == 2\n",
        "  assert todo_list.unfinished_tasks == 1\n",
        "\n",
        "  todo_list.delete_task(\"Task 1\")\n",
        "  assert len(todo_list.tasks) == 1\n",
        "  assert todo_list.unfinished_tasks == 1\n",
        "\n",
        "\n",
        "\n",
        "def test_delete_nonexistent_task():\n",
        "    todo_list = AnnoyedToDoList()\n",
        "    todo_list.add_task(\"Task 1\")\n",
        "\n",
        "    todo_list.delete_task(\"NonExistentTask\")\n",
        "\n",
        "    assert len(todo_list.tasks) == 1\n",
        "    assert todo_list.unfinished_tasks == 1\n",
        "\n",
        "\n"
      ],
      "metadata": {
        "colab": {
          "base_uri": "https://localhost:8080/"
        },
        "id": "64J-cksLkrW-",
        "outputId": "a2695847-6149-4c6c-df12-3c7c7308c749"
      },
      "execution_count": 23,
      "outputs": [
        {
          "output_type": "stream",
          "name": "stdout",
          "text": [
            "Overwriting tests_uebung2_delete.py\n"
          ]
        }
      ]
    },
    {
      "cell_type": "code",
      "source": [
        "!pytest tests_uebung2_delete.py"
      ],
      "metadata": {
        "colab": {
          "base_uri": "https://localhost:8080/"
        },
        "id": "GmqetP8KkjKq",
        "outputId": "15cdd6ef-dfcf-40a3-ed75-426fc67f989f"
      },
      "execution_count": 24,
      "outputs": [
        {
          "output_type": "stream",
          "name": "stdout",
          "text": [
            "\u001b[1m======================================= test session starts ========================================\u001b[0m\n",
            "platform linux -- Python 3.10.12, pytest-8.3.3, pluggy-1.5.0\n",
            "rootdir: /content\n",
            "plugins: anyio-3.7.1, typeguard-4.4.1\n",
            "\u001b[1mcollecting ... \u001b[0m\u001b[1m\rcollected 5 items                                                                                  \u001b[0m\n",
            "\n",
            "tests_uebung2_delete.py \u001b[32m.\u001b[0m\u001b[32m.\u001b[0m\u001b[32m.\u001b[0m\u001b[32m.\u001b[0m\u001b[32m.\u001b[0m\u001b[32m                                                                [100%]\u001b[0m\n",
            "\n",
            "\u001b[32m======================================== \u001b[32m\u001b[1m5 passed\u001b[0m\u001b[32m in 0.03s\u001b[0m\u001b[32m =========================================\u001b[0m\n"
          ]
        }
      ]
    },
    {
      "cell_type": "markdown",
      "source": [
        "## Übung 2 (Optional) - Unit Test mit Mock\n",
        "\n",
        "* Die `AnnoyedTodoList` hat eine Funktion `import_tasks_from_external`\n",
        "* Diese ruft eine externe Funktion auf, welche aktuell immer eine leere Liste zurückliefert\n",
        "* Wir wollen jetzt so tun, als ob diese Methode eine Liste von extern bereitstellen würde\n",
        "* Schreibe dazu einen neuen Unit Test, in dem die Response der externen Methode `get_external_tasks` gemockt ist und prüfe das Ergebnis des Imports\n"
      ],
      "metadata": {
        "id": "igOpxNVKlWsc"
      }
    },
    {
      "cell_type": "code",
      "source": [
        "%%writefile tests_uebung2_optional.py\n",
        "\n",
        "from annoyed_todo_list import AnnoyedToDoList\n",
        "\n",
        "def test_import_external_tasks(monkeypatch):\n",
        "    # Mock-Daten definieren\n",
        "    mock_tasks = [\"External Task 1\", \"External Task 2\"]\n",
        "\n",
        "    # Mock-Funktion erstellen\n",
        "    def mock_get_external_tasks():\n",
        "        return mock_tasks\n",
        "\n",
        "    # get_external_tasks ersetzen\n",
        "    monkeypatch.setattr('annoyed_todo_list.get_external_tasks', mock_get_external_tasks)\n",
        "\n",
        "    todo_list = AnnoyedToDoList()\n",
        "    todo_list.import_tasks_from_external()\n",
        "\n",
        "    assert len(todo_list.tasks) == 2\n",
        "    assert todo_list.tasks[0].task_name == \"External Task 1\"\n",
        "    assert todo_list.tasks[1].task_name == \"External Task 2\"\n",
        "    assert todo_list.unfinished_tasks == 2\n",
        "\n",
        "def test_import_empty_external_tasks(monkeypatch):\n",
        "    # Mock-Funktion für leere Liste\n",
        "    def mock_get_empty_tasks():\n",
        "        return []\n",
        "\n",
        "    monkeypatch.setattr('annoyed_todo_list.get_external_tasks', mock_get_empty_tasks)\n",
        "\n",
        "    todo_list = AnnoyedToDoList()\n",
        "    todo_list.import_tasks_from_external()\n",
        "\n",
        "    assert len(todo_list.tasks) == 0\n",
        "    assert todo_list.unfinished_tasks == 0\n",
        "\n",
        "def test_import_respects_task_limit(monkeypatch):\n",
        "    # Mock-Daten mit mehr Tasks als erlaubt\n",
        "    mock_tasks = [\"Task 1\", \"Task 2\", \"Task 3\", \"Task 4\"]\n",
        "\n",
        "    def mock_get_many_tasks():\n",
        "        return mock_tasks\n",
        "\n",
        "    monkeypatch.setattr('annoyed_todo_list.get_external_tasks', mock_get_many_tasks)\n",
        "\n",
        "    todo_list = AnnoyedToDoList()\n",
        "    todo_list.import_tasks_from_external()\n",
        "\n",
        "    assert len(todo_list.tasks) == 3\n",
        "    assert todo_list.unfinished_tasks == 3"
      ],
      "metadata": {
        "id": "Jhn2WRrAq-pj",
        "colab": {
          "base_uri": "https://localhost:8080/"
        },
        "outputId": "8f8005bb-71ec-4adf-afb8-09b6ff4705cc"
      },
      "execution_count": 25,
      "outputs": [
        {
          "output_type": "stream",
          "name": "stdout",
          "text": [
            "Overwriting tests_uebung2_optional.py\n"
          ]
        }
      ]
    },
    {
      "cell_type": "code",
      "source": [
        "!pytest tests_uebung2_optional.py"
      ],
      "metadata": {
        "colab": {
          "base_uri": "https://localhost:8080/"
        },
        "id": "LKO3SsQa0Yv-",
        "outputId": "1e96a627-c62f-49a8-a8ad-617aeebd7c4f"
      },
      "execution_count": 26,
      "outputs": [
        {
          "output_type": "stream",
          "name": "stdout",
          "text": [
            "\u001b[1m======================================= test session starts ========================================\u001b[0m\n",
            "platform linux -- Python 3.10.12, pytest-8.3.3, pluggy-1.5.0\n",
            "rootdir: /content\n",
            "plugins: anyio-3.7.1, typeguard-4.4.1\n",
            "\u001b[1mcollecting ... \u001b[0m\u001b[1m\rcollected 3 items                                                                                  \u001b[0m\n",
            "\n",
            "tests_uebung2_optional.py \u001b[32m.\u001b[0m\u001b[32m.\u001b[0m\u001b[32m.\u001b[0m\u001b[32m                                                                [100%]\u001b[0m\n",
            "\n",
            "\u001b[32m======================================== \u001b[32m\u001b[1m3 passed\u001b[0m\u001b[32m in 0.02s\u001b[0m\u001b[32m =========================================\u001b[0m\n"
          ]
        }
      ]
    },
    {
      "cell_type": "markdown",
      "source": [
        "## Übung 3 - Linting\n",
        "\n",
        "* erstellt einen Übungs-Branch für diese Übung aus eurem Team-Branch\n",
        "* analysiert den Code der `AnnoyedToDoList`\n",
        "* diese wurde bereits in die Datei `annoyed_todo_list.py` geschrieben\n",
        "* nutzt zur `pylint` zur Code-Analyse\n",
        " * ihr findet unten eine Erklärung mit Beispiel\n",
        " * führt die Analyse wie beschrieben aus und behebt die angegebenen Issues, soweit ihr in der Zeit kommt\n",
        "* committet die Fixes in eurem Übungs-Branch\n",
        "* mergt den Übungsbranch danach wieder in euren Team-Branch"
      ],
      "metadata": {
        "id": "RQFT-Mw-fLxS"
      }
    },
    {
      "cell_type": "markdown",
      "source": [
        "### How to: Linting in Python\n",
        "\n",
        "Zum Linting installieren und initialisieren wir zuerst die notwendigen Python Tools:"
      ],
      "metadata": {
        "id": "B8OncaxFqlNd"
      }
    },
    {
      "cell_type": "code",
      "source": [
        "!pip install pylint"
      ],
      "metadata": {
        "id": "IBggQVmYU3Dq",
        "colab": {
          "base_uri": "https://localhost:8080/"
        },
        "outputId": "a9a17c54-7d98-494f-9607-0d86c96981c2"
      },
      "execution_count": 27,
      "outputs": [
        {
          "output_type": "stream",
          "name": "stdout",
          "text": [
            "Collecting pylint\n",
            "  Downloading pylint-3.3.1-py3-none-any.whl.metadata (12 kB)\n",
            "Requirement already satisfied: platformdirs>=2.2.0 in /usr/local/lib/python3.10/dist-packages (from pylint) (4.3.6)\n",
            "Collecting astroid<=3.4.0-dev0,>=3.3.4 (from pylint)\n",
            "  Downloading astroid-3.3.5-py3-none-any.whl.metadata (4.5 kB)\n",
            "Collecting isort!=5.13.0,<6,>=4.2.5 (from pylint)\n",
            "  Downloading isort-5.13.2-py3-none-any.whl.metadata (12 kB)\n",
            "Collecting mccabe<0.8,>=0.6 (from pylint)\n",
            "  Downloading mccabe-0.7.0-py2.py3-none-any.whl.metadata (5.0 kB)\n",
            "Collecting tomlkit>=0.10.1 (from pylint)\n",
            "  Downloading tomlkit-0.13.2-py3-none-any.whl.metadata (2.7 kB)\n",
            "Collecting dill>=0.2 (from pylint)\n",
            "  Downloading dill-0.3.9-py3-none-any.whl.metadata (10 kB)\n",
            "Requirement already satisfied: tomli>=1.1.0 in /usr/local/lib/python3.10/dist-packages (from pylint) (2.1.0)\n",
            "Requirement already satisfied: typing-extensions>=4.0.0 in /usr/local/lib/python3.10/dist-packages (from astroid<=3.4.0-dev0,>=3.3.4->pylint) (4.12.2)\n",
            "Downloading pylint-3.3.1-py3-none-any.whl (521 kB)\n",
            "\u001b[2K   \u001b[90m━━━━━━━━━━━━━━━━━━━━━━━━━━━━━━━━━━━━━━━━\u001b[0m \u001b[32m521.8/521.8 kB\u001b[0m \u001b[31m8.0 MB/s\u001b[0m eta \u001b[36m0:00:00\u001b[0m\n",
            "\u001b[?25hDownloading astroid-3.3.5-py3-none-any.whl (274 kB)\n",
            "\u001b[2K   \u001b[90m━━━━━━━━━━━━━━━━━━━━━━━━━━━━━━━━━━━━━━━━\u001b[0m \u001b[32m274.6/274.6 kB\u001b[0m \u001b[31m16.4 MB/s\u001b[0m eta \u001b[36m0:00:00\u001b[0m\n",
            "\u001b[?25hDownloading dill-0.3.9-py3-none-any.whl (119 kB)\n",
            "\u001b[2K   \u001b[90m━━━━━━━━━━━━━━━━━━━━━━━━━━━━━━━━━━━━━━━━\u001b[0m \u001b[32m119.4/119.4 kB\u001b[0m \u001b[31m8.2 MB/s\u001b[0m eta \u001b[36m0:00:00\u001b[0m\n",
            "\u001b[?25hDownloading isort-5.13.2-py3-none-any.whl (92 kB)\n",
            "\u001b[2K   \u001b[90m━━━━━━━━━━━━━━━━━━━━━━━━━━━━━━━━━━━━━━━━\u001b[0m \u001b[32m92.3/92.3 kB\u001b[0m \u001b[31m6.8 MB/s\u001b[0m eta \u001b[36m0:00:00\u001b[0m\n",
            "\u001b[?25hDownloading mccabe-0.7.0-py2.py3-none-any.whl (7.3 kB)\n",
            "Downloading tomlkit-0.13.2-py3-none-any.whl (37 kB)\n",
            "Installing collected packages: tomlkit, mccabe, isort, dill, astroid, pylint\n",
            "Successfully installed astroid-3.3.5 dill-0.3.9 isort-5.13.2 mccabe-0.7.0 pylint-3.3.1 tomlkit-0.13.2\n"
          ]
        }
      ]
    },
    {
      "cell_type": "markdown",
      "source": [
        "Danach brauchen wir Python Code, den wir analysieren können. Dazu folgendes Beispiel, welches nach Ausführung als Datei abgespeichert wird."
      ],
      "metadata": {
        "id": "toULD6h1i1gp"
      }
    },
    {
      "cell_type": "code",
      "source": [
        "%%writefile linting_example.py\n",
        "def square_of_number(\n",
        "     num1, num2, num3,\n",
        "     num4):\n",
        "  return num1**2, num2**2, num3**3"
      ],
      "metadata": {
        "id": "6w0Voe1viQ9b",
        "colab": {
          "base_uri": "https://localhost:8080/"
        },
        "outputId": "94dd97c6-c593-4cd4-9c95-14da96d99a56"
      },
      "execution_count": 34,
      "outputs": [
        {
          "output_type": "stream",
          "name": "stdout",
          "text": [
            "Overwriting linting_example.py\n"
          ]
        }
      ]
    },
    {
      "cell_type": "markdown",
      "source": [
        "Die Ausführung von `pylint` ist dann ganz einfach per `!pylint <Dateiname>` machbar."
      ],
      "metadata": {
        "id": "FtRWchlhjAof"
      }
    },
    {
      "cell_type": "code",
      "source": [
        "!pylint linting_example.py"
      ],
      "metadata": {
        "id": "wyo3mBZFU70W",
        "colab": {
          "base_uri": "https://localhost:8080/"
        },
        "outputId": "f77ae3e4-0814-4cd1-ef1a-50afb78a0e2b"
      },
      "execution_count": 35,
      "outputs": [
        {
          "output_type": "stream",
          "name": "stdout",
          "text": [
            "************* Module linting_example\n",
            "linting_example.py:4:0: W0311: Bad indentation. Found 2 spaces, expected 4 (bad-indentation)\n",
            "linting_example.py:1:0: C0114: Missing module docstring (missing-module-docstring)\n",
            "linting_example.py:1:0: C0116: Missing function or method docstring (missing-function-docstring)\n",
            "linting_example.py:3:5: W0613: Unused argument 'num4' (unused-argument)\n",
            "\n",
            "------------------------------------------------------------------\n",
            "Your code has been rated at 0.00/10 (previous run: 5.00/10, -5.00)\n",
            "\n"
          ]
        }
      ]
    },
    {
      "cell_type": "code",
      "source": [
        "!pylint annoyed_todo_list.py"
      ],
      "metadata": {
        "id": "Hm8AT57m1orY",
        "outputId": "d62b19c9-8f19-49a1-da2e-a15168663802",
        "colab": {
          "base_uri": "https://localhost:8080/"
        }
      },
      "execution_count": 50,
      "outputs": [
        {
          "output_type": "stream",
          "name": "stdout",
          "text": [
            "************* Module annoyed_todo_list\n",
            "annoyed_todo_list.py:9:0: R0903: Too few public methods (0/2) (too-few-public-methods)\n",
            "\n",
            "------------------------------------------------------------------\n",
            "Your code has been rated at 9.81/10 (previous run: 9.81/10, +0.00)\n",
            "\n"
          ]
        }
      ]
    },
    {
      "cell_type": "markdown",
      "source": [
        "## Übung 3 (Optional & Fortgeschritten) - SOLID Prinzipien\n",
        "\n",
        "* schaut euch den Code der `AnnoyedTodoList` im Detail an\n",
        "* wie kann die Klasse umgebaut werden, sodass einige der SOLID Prinzipien eingehalten werden? Ein paar Tipps und Fragen dazu zur Anregung :)\n",
        " * Ist die Listenklasse aktuell für eine Aufgabe zuständig? Falls nein, wie könnte man das verbessern?\n",
        " * Kann das Verhalten der Liste aktuell einfach erweitert werden? Falls nein, wie könnte man das verbessern?\n",
        " * Macht evtl die Verwendung einer Basisklasse Sinn?\n",
        " * Könnten die Funktionalitäten der Liste aufgeteilt werden?\n",
        " * Wie könnte man die Verwendung der externen Methode `get_external_tasks` noch flexibler gestalten?\n",
        "* wie zuvor erstellt einen Übungs-Branch dazu und mergt ihn danach in den Team-Branch"
      ],
      "metadata": {
        "id": "ViZnnqihgQd-"
      }
    },
    {
      "cell_type": "code",
      "source": [
        "%%writefile annoyed_todo_list_solid.py\n",
        "\n",
        "\"\"\"Module for managing todo lists with different behaviors.\"\"\"\n",
        "from abc import ABC, abstractmethod\n",
        "from typing import List, Protocol\n",
        "\n",
        "class Task:\n",
        "    \"\"\"Class representing a single task.\"\"\"\n",
        "    def __init__(self, task_name: str, done: bool = False):\n",
        "        self.task_name = task_name\n",
        "        self.done = done\n",
        "\n",
        "class ITaskPrinter(Protocol):\n",
        "    def print_task_added(self, task_name: str) -> None: ...\n",
        "    def print_task_completed(self, task_name: str) -> None: ...\n",
        "    def print_tasks(self, tasks: List[Task]) -> None: ...\n",
        "\n",
        "class AnnoyedPrinter(ITaskPrinter):\n",
        "    def print_task_added(self, task_name: str) -> None:\n",
        "        print(f\"Yeah, alright. Task '{task_name}' added to the list...\")\n",
        "\n",
        "    def print_task_completed(self, task_name: str) -> None:\n",
        "        print(f\"Task '{task_name}' completed. Are you a robot?\")\n",
        "\n",
        "    def print_tasks(self, tasks: List[Task]) -> None:\n",
        "        if not tasks:\n",
        "            print(\"Nothing to do! Go binge-watch something.\")\n",
        "            return\n",
        "        for i, task in enumerate(tasks):\n",
        "            status = \"Done\" if task.done else \"Not Done\"\n",
        "            print(f\"{i+1}. {task.task_name} - {status}\")\n",
        "\n",
        "class ITaskSource(Protocol):\n",
        "    def get_tasks(self) -> List[str]: ...\n",
        "\n",
        "class ExternalTaskSource(ITaskSource):\n",
        "    def __init__(self, external_getter):\n",
        "        self.get_external = external_getter\n",
        "\n",
        "    def get_tasks(self) -> List[str]:\n",
        "        return self.get_external()\n",
        "\n",
        "class TodoList(ABC):\n",
        "    @abstractmethod\n",
        "    def add_task(self, task_name: str) -> None: ...\n",
        "    @abstractmethod\n",
        "    def complete_task(self, task_name: str) -> None: ...\n",
        "    @abstractmethod\n",
        "    def delete_task(self, task_name: str) -> None: ...\n",
        "    @abstractmethod\n",
        "    def show_tasks(self) -> None: ...\n",
        "    @abstractmethod\n",
        "    def import_tasks(self) -> None: ...\n",
        "\n",
        "class AnnoyedToDoList(TodoList):\n",
        "    def __init__(self, printer: ITaskPrinter, task_source: ITaskSource):\n",
        "        self.tasks: List[Task] = []\n",
        "        self.unfinished_tasks = 0\n",
        "        self.printer = printer\n",
        "        self.task_source = task_source\n",
        "\n",
        "    def add_task(self, task_name: str) -> None:\n",
        "        if len(self.tasks) > 2:\n",
        "            print(\"Woah! Work-life balance! Not doing this...\")\n",
        "            return\n",
        "        new_task = Task(task_name)\n",
        "        self.tasks.append(new_task)\n",
        "        self.unfinished_tasks += 1\n",
        "        self.printer.print_task_added(task_name)\n",
        "\n",
        "    def complete_task(self, task_name: str) -> None:\n",
        "        for task in self.tasks:\n",
        "            if task.task_name == task_name and not task.done:\n",
        "                task.done = True\n",
        "                self.unfinished_tasks -= 1\n",
        "                self.printer.print_task_completed(task_name)\n",
        "                return\n",
        "        print(f\"Task '{task_name}' not found or done.\")\n",
        "\n",
        "    def delete_task(self, task_name: str) -> None:\n",
        "        for task in self.tasks[:]:\n",
        "            if task.task_name == task_name:\n",
        "                self.tasks.remove(task)\n",
        "                if not task.done:\n",
        "                    self.unfinished_tasks -= 1\n",
        "                print(\"Task deleted. Happy now...?\")\n",
        "                return\n",
        "        print(\"Task not found. Lucky you!\")\n",
        "\n",
        "    def show_tasks(self) -> None:\n",
        "        self.printer.print_tasks(self.tasks)\n",
        "\n",
        "    def import_tasks(self) -> None:\n",
        "        external_tasks = self.task_source.get_tasks()\n",
        "        for task in external_tasks:\n",
        "            self.add_task(task)"
      ],
      "metadata": {
        "id": "G-nL2yc897Pd",
        "outputId": "c4af503a-dd90-4f03-cfe7-5a1a03b5eefc",
        "colab": {
          "base_uri": "https://localhost:8080/"
        }
      },
      "execution_count": 52,
      "outputs": [
        {
          "output_type": "stream",
          "name": "stdout",
          "text": [
            "Writing annoyed_todo_list_solid.py\n"
          ]
        }
      ]
    },
    {
      "cell_type": "markdown",
      "source": [
        "## Übung 4 - Code Reviews\n",
        "\n",
        "* Stellt einen Pull Request ein, bei dem ihr euren Team-Branch auf den main Branch mergen wollt\n",
        "* Sucht euch ein anderes Team\n",
        "* führt jeweils gegenseitig ein Review auf diesem Pull Request durch und fügt Anmerkungen hinzu, die euch auffallen\n",
        "* das gesamte Notebook File ist als JSON formatiert. Deshalb wundert euch nicht, dass die Code Blöcke beim Review nicht als Python Code dargestellt.\n",
        "* tauscht euch danach gegenseitig aus"
      ],
      "metadata": {
        "id": "PLhdPSORgjtF"
      }
    }
  ]
}